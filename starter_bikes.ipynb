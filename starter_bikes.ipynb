{
  "nbformat": 4,
  "nbformat_minor": 0,
  "metadata": {
    "colab": {
      "name": "Copy of starter_bikes.ipynb",
      "provenance": [],
      "collapsed_sections": [],
      "include_colab_link": true
    },
    "kernelspec": {
      "name": "python3",
      "display_name": "Python 3"
    }
  },
  "cells": [
    {
      "cell_type": "markdown",
      "metadata": {
        "id": "view-in-github",
        "colab_type": "text"
      },
      "source": [
        "<a href=\"https://colab.research.google.com/github/jarreed0/school_stuff/blob/main/starter_bikes.ipynb\" target=\"_parent\"><img src=\"https://colab.research.google.com/assets/colab-badge.svg\" alt=\"Open In Colab\"/></a>"
      ]
    },
    {
      "cell_type": "code",
      "metadata": {
        "id": "mA0HPVmIBT4C",
        "colab": {
          "base_uri": "https://localhost:8080/",
          "height": 419
        },
        "outputId": "4ce9ffc6-3e2a-4338-d3d5-b00b731311d6"
      },
      "source": [
        "import pandas as pd\n",
        "import tensorflow as tf\n",
        "from tensorflow import keras\n",
        "from tensorflow.keras import layers\n",
        "\n",
        "bikes = pd.read_csv('https://raw.githubusercontent.com/byui-cse/cse450-course/master/data/bikes.csv')\n",
        "bikes['rented'] = bikes['casual'] + bikes['registered']\n",
        "bikes = bikes.drop(bikes.columns[[10]], axis=1)\n",
        "bikes = bikes.drop(bikes.columns[[10]], axis=1)\n",
        "\n",
        "#from datetime import datetime\n",
        "#bikes['dteday'] = pd.to_datetime(bikes.dteday)\n",
        "#bikes['dteday'] = pd.to_datetime(bikes['dteday'],infer_datetime_format=True)\n",
        "bikes['dteday'] = pd.to_datetime(bikes['dteday'],infer_datetime_format=True)\n",
        "bikes['dteday'] = bikes['dteday'].apply(lambda x: x.toordinal())\n",
        "\n",
        "#bikes['dteday'] = int(bikes['dteday'].str.split('/')[0])*int(bikes['dteday'].str.split('/')[1])\n",
        "\n",
        "bikes"
      ],
      "execution_count": 1,
      "outputs": [
        {
          "output_type": "execute_result",
          "data": {
            "text/html": [
              "<div>\n",
              "<style scoped>\n",
              "    .dataframe tbody tr th:only-of-type {\n",
              "        vertical-align: middle;\n",
              "    }\n",
              "\n",
              "    .dataframe tbody tr th {\n",
              "        vertical-align: top;\n",
              "    }\n",
              "\n",
              "    .dataframe thead th {\n",
              "        text-align: right;\n",
              "    }\n",
              "</style>\n",
              "<table border=\"1\" class=\"dataframe\">\n",
              "  <thead>\n",
              "    <tr style=\"text-align: right;\">\n",
              "      <th></th>\n",
              "      <th>dteday</th>\n",
              "      <th>season</th>\n",
              "      <th>hr</th>\n",
              "      <th>holiday</th>\n",
              "      <th>workingday</th>\n",
              "      <th>weathersit</th>\n",
              "      <th>hum</th>\n",
              "      <th>windspeed</th>\n",
              "      <th>temp_c</th>\n",
              "      <th>feels_like_c</th>\n",
              "      <th>rented</th>\n",
              "    </tr>\n",
              "  </thead>\n",
              "  <tbody>\n",
              "    <tr>\n",
              "      <th>0</th>\n",
              "      <td>734138</td>\n",
              "      <td>1</td>\n",
              "      <td>0</td>\n",
              "      <td>0</td>\n",
              "      <td>0</td>\n",
              "      <td>1</td>\n",
              "      <td>0.81</td>\n",
              "      <td>0</td>\n",
              "      <td>3.28</td>\n",
              "      <td>3.0014</td>\n",
              "      <td>16</td>\n",
              "    </tr>\n",
              "    <tr>\n",
              "      <th>1</th>\n",
              "      <td>734138</td>\n",
              "      <td>1</td>\n",
              "      <td>1</td>\n",
              "      <td>0</td>\n",
              "      <td>0</td>\n",
              "      <td>1</td>\n",
              "      <td>0.80</td>\n",
              "      <td>0</td>\n",
              "      <td>2.34</td>\n",
              "      <td>1.9982</td>\n",
              "      <td>40</td>\n",
              "    </tr>\n",
              "    <tr>\n",
              "      <th>2</th>\n",
              "      <td>734138</td>\n",
              "      <td>1</td>\n",
              "      <td>2</td>\n",
              "      <td>0</td>\n",
              "      <td>0</td>\n",
              "      <td>1</td>\n",
              "      <td>0.80</td>\n",
              "      <td>0</td>\n",
              "      <td>2.34</td>\n",
              "      <td>1.9982</td>\n",
              "      <td>32</td>\n",
              "    </tr>\n",
              "    <tr>\n",
              "      <th>3</th>\n",
              "      <td>734138</td>\n",
              "      <td>1</td>\n",
              "      <td>3</td>\n",
              "      <td>0</td>\n",
              "      <td>0</td>\n",
              "      <td>1</td>\n",
              "      <td>0.75</td>\n",
              "      <td>0</td>\n",
              "      <td>3.28</td>\n",
              "      <td>3.0014</td>\n",
              "      <td>13</td>\n",
              "    </tr>\n",
              "    <tr>\n",
              "      <th>4</th>\n",
              "      <td>734138</td>\n",
              "      <td>1</td>\n",
              "      <td>4</td>\n",
              "      <td>0</td>\n",
              "      <td>0</td>\n",
              "      <td>1</td>\n",
              "      <td>0.75</td>\n",
              "      <td>0</td>\n",
              "      <td>3.28</td>\n",
              "      <td>3.0014</td>\n",
              "      <td>1</td>\n",
              "    </tr>\n",
              "    <tr>\n",
              "      <th>...</th>\n",
              "      <td>...</td>\n",
              "      <td>...</td>\n",
              "      <td>...</td>\n",
              "      <td>...</td>\n",
              "      <td>...</td>\n",
              "      <td>...</td>\n",
              "      <td>...</td>\n",
              "      <td>...</td>\n",
              "      <td>...</td>\n",
              "      <td>...</td>\n",
              "      <td>...</td>\n",
              "    </tr>\n",
              "    <tr>\n",
              "      <th>16632</th>\n",
              "      <td>734837</td>\n",
              "      <td>4</td>\n",
              "      <td>19</td>\n",
              "      <td>0</td>\n",
              "      <td>1</td>\n",
              "      <td>1</td>\n",
              "      <td>0.66</td>\n",
              "      <td>0</td>\n",
              "      <td>7.04</td>\n",
              "      <td>7.0010</td>\n",
              "      <td>377</td>\n",
              "    </tr>\n",
              "    <tr>\n",
              "      <th>16633</th>\n",
              "      <td>734837</td>\n",
              "      <td>4</td>\n",
              "      <td>20</td>\n",
              "      <td>0</td>\n",
              "      <td>1</td>\n",
              "      <td>1</td>\n",
              "      <td>0.66</td>\n",
              "      <td>0</td>\n",
              "      <td>7.04</td>\n",
              "      <td>7.0010</td>\n",
              "      <td>245</td>\n",
              "    </tr>\n",
              "    <tr>\n",
              "      <th>16634</th>\n",
              "      <td>734837</td>\n",
              "      <td>4</td>\n",
              "      <td>21</td>\n",
              "      <td>0</td>\n",
              "      <td>1</td>\n",
              "      <td>1</td>\n",
              "      <td>0.75</td>\n",
              "      <td>6</td>\n",
              "      <td>6.10</td>\n",
              "      <td>5.0012</td>\n",
              "      <td>183</td>\n",
              "    </tr>\n",
              "    <tr>\n",
              "      <th>16635</th>\n",
              "      <td>734837</td>\n",
              "      <td>4</td>\n",
              "      <td>22</td>\n",
              "      <td>0</td>\n",
              "      <td>1</td>\n",
              "      <td>1</td>\n",
              "      <td>0.75</td>\n",
              "      <td>0</td>\n",
              "      <td>6.10</td>\n",
              "      <td>5.9978</td>\n",
              "      <td>163</td>\n",
              "    </tr>\n",
              "    <tr>\n",
              "      <th>16636</th>\n",
              "      <td>734837</td>\n",
              "      <td>4</td>\n",
              "      <td>23</td>\n",
              "      <td>0</td>\n",
              "      <td>1</td>\n",
              "      <td>2</td>\n",
              "      <td>0.75</td>\n",
              "      <td>6</td>\n",
              "      <td>6.10</td>\n",
              "      <td>5.0012</td>\n",
              "      <td>110</td>\n",
              "    </tr>\n",
              "  </tbody>\n",
              "</table>\n",
              "<p>16637 rows × 11 columns</p>\n",
              "</div>"
            ],
            "text/plain": [
              "       dteday  season  hr  holiday  ...  windspeed  temp_c  feels_like_c  rented\n",
              "0      734138       1   0        0  ...          0    3.28        3.0014      16\n",
              "1      734138       1   1        0  ...          0    2.34        1.9982      40\n",
              "2      734138       1   2        0  ...          0    2.34        1.9982      32\n",
              "3      734138       1   3        0  ...          0    3.28        3.0014      13\n",
              "4      734138       1   4        0  ...          0    3.28        3.0014       1\n",
              "...       ...     ...  ..      ...  ...        ...     ...           ...     ...\n",
              "16632  734837       4  19        0  ...          0    7.04        7.0010     377\n",
              "16633  734837       4  20        0  ...          0    7.04        7.0010     245\n",
              "16634  734837       4  21        0  ...          6    6.10        5.0012     183\n",
              "16635  734837       4  22        0  ...          0    6.10        5.9978     163\n",
              "16636  734837       4  23        0  ...          6    6.10        5.0012     110\n",
              "\n",
              "[16637 rows x 11 columns]"
            ]
          },
          "metadata": {},
          "execution_count": 1
        }
      ]
    },
    {
      "cell_type": "code",
      "metadata": {
        "id": "cKr6cfYhhWpI",
        "colab": {
          "base_uri": "https://localhost:8080/"
        },
        "outputId": "63333ecd-159e-4de2-a292-4954d4117ba6"
      },
      "source": [
        "bikes.isna().value_counts()\n"
      ],
      "execution_count": 2,
      "outputs": [
        {
          "output_type": "execute_result",
          "data": {
            "text/plain": [
              "dteday  season  hr     holiday  workingday  weathersit  hum    windspeed  temp_c  feels_like_c  rented\n",
              "False   False   False  False    False       False       False  False      False   False         False     16637\n",
              "dtype: int64"
            ]
          },
          "metadata": {},
          "execution_count": 2
        }
      ]
    },
    {
      "cell_type": "code",
      "metadata": {
        "id": "StiU5QcPPxqQ",
        "colab": {
          "base_uri": "https://localhost:8080/",
          "height": 300
        },
        "outputId": "c7fab985-7350-4189-dba3-c061eb014c3f"
      },
      "source": [
        "bikes.fillna(0)\n",
        "\n",
        "import seaborn as sns\n",
        "\n",
        "sns.barplot(data=bikes, x='dteday', y='rented')"
      ],
      "execution_count": 3,
      "outputs": [
        {
          "output_type": "execute_result",
          "data": {
            "text/plain": [
              "<matplotlib.axes._subplots.AxesSubplot at 0x7fc343a11810>"
            ]
          },
          "metadata": {},
          "execution_count": 3
        },
        {
          "output_type": "display_data",
          "data": {
            "image/png": "[encoded data removed]",
            "text/plain": [
              "<Figure size 432x288 with 1 Axes>"
            ]
          },
          "metadata": {
            "needs_background": "light"
          }
        }
      ]
    },
    {
      "cell_type": "code",
      "metadata": {
        "id": "ALLMN63FPyEQ",
        "colab": {
          "base_uri": "https://localhost:8080/",
          "height": 296
        },
        "outputId": "8dc14ed2-2337-4bc9-f2a3-7a76407990bf"
      },
      "source": [
        "sns.barplot(data=bikes, x='holiday', y='rented')"
      ],
      "execution_count": 4,
      "outputs": [
        {
          "output_type": "execute_result",
          "data": {
            "text/plain": [
              "<matplotlib.axes._subplots.AxesSubplot at 0x7fc34319a6d0>"
            ]
          },
          "metadata": {},
          "execution_count": 4
        },
        {
          "output_type": "display_data",
          "data": {
            "image/png": "[encoded data removed]",
            "text/plain": [
              "<Figure size 432x288 with 1 Axes>"
            ]
          },
          "metadata": {
            "needs_background": "light"
          }
        }
      ]
    },
    {
      "cell_type": "code",
      "metadata": {
        "id": "RnGBwGVZPyyh",
        "colab": {
          "base_uri": "https://localhost:8080/",
          "height": 297
        },
        "outputId": "bac5cfc3-b118-40b8-b50a-aefd5f505b84"
      },
      "source": [
        "sns.barplot(data=bikes, x='temp_c', y='rented')"
      ],
      "execution_count": 5,
      "outputs": [
        {
          "output_type": "execute_result",
          "data": {
            "text/plain": [
              "<matplotlib.axes._subplots.AxesSubplot at 0x7fc34315dd50>"
            ]
          },
          "metadata": {},
          "execution_count": 5
        },
        {
          "output_type": "display_data",
          "data": {
            "image/png": "[encoded data removed]",
            "text/plain": [
              "<Figure size 432x288 with 1 Axes>"
            ]
          },
          "metadata": {
            "needs_background": "light"
          }
        }
      ]
    },
    {
      "cell_type": "code",
      "metadata": {
        "id": "gsxvnYwbWuM6",
        "colab": {
          "base_uri": "https://localhost:8080/",
          "height": 297
        },
        "outputId": "6888d880-1fcb-4cc0-c669-6be42377d53e"
      },
      "source": [
        "sns.barplot(data=bikes, x='season', y='rented')"
      ],
      "execution_count": 6,
      "outputs": [
        {
          "output_type": "execute_result",
          "data": {
            "text/plain": [
              "<matplotlib.axes._subplots.AxesSubplot at 0x7fc3412425d0>"
            ]
          },
          "metadata": {},
          "execution_count": 6
        },
        {
          "output_type": "display_data",
          "data": {
            "image/png": "[encoded data removed]",
            "text/plain": [
              "<Figure size 432x288 with 1 Axes>"
            ]
          },
          "metadata": {
            "needs_background": "light"
          }
        }
      ]
    },
    {
      "cell_type": "code",
      "metadata": {
        "id": "3I7RI0vDWuKm",
        "colab": {
          "base_uri": "https://localhost:8080/",
          "height": 298
        },
        "outputId": "e286a3c9-52f5-49e8-875f-510bceb11eca"
      },
      "source": [
        "sns.barplot(data=bikes, x='hr', y='rented')"
      ],
      "execution_count": 7,
      "outputs": [
        {
          "output_type": "execute_result",
          "data": {
            "text/plain": [
              "<matplotlib.axes._subplots.AxesSubplot at 0x7fc343a11310>"
            ]
          },
          "metadata": {},
          "execution_count": 7
        },
        {
          "output_type": "display_data",
          "data": {
            "image/png": "[encoded data removed]",
            "text/plain": [
              "<Figure size 432x288 with 1 Axes>"
            ]
          },
          "metadata": {
            "needs_background": "light"
          }
        }
      ]
    },
    {
      "cell_type": "code",
      "metadata": {
        "id": "_0wXx1fsWuIh",
        "colab": {
          "base_uri": "https://localhost:8080/"
        },
        "outputId": "caacf1f6-0328-4140-8a2d-e28b639e367d"
      },
      "source": [
        "bikes.info()"
      ],
      "execution_count": 8,
      "outputs": [
        {
          "output_type": "stream",
          "name": "stdout",
          "text": [
            "<class 'pandas.core.frame.DataFrame'>\n",
            "RangeIndex: 16637 entries, 0 to 16636\n",
            "Data columns (total 11 columns):\n",
            " #   Column        Non-Null Count  Dtype  \n",
            "---  ------        --------------  -----  \n",
            " 0   dteday        16637 non-null  int64  \n",
            " 1   season        16637 non-null  int64  \n",
            " 2   hr            16637 non-null  int64  \n",
            " 3   holiday       16637 non-null  int64  \n",
            " 4   workingday    16637 non-null  int64  \n",
            " 5   weathersit    16637 non-null  int64  \n",
            " 6   hum           16637 non-null  float64\n",
            " 7   windspeed     16637 non-null  int64  \n",
            " 8   temp_c        16637 non-null  float64\n",
            " 9   feels_like_c  16637 non-null  float64\n",
            " 10  rented        16637 non-null  int64  \n",
            "dtypes: float64(3), int64(8)\n",
            "memory usage: 1.4 MB\n"
          ]
        }
      ]
    },
    {
      "cell_type": "code",
      "metadata": {
        "id": "9YOH0sjlWuGK",
        "colab": {
          "base_uri": "https://localhost:8080/",
          "height": 297
        },
        "outputId": "66e8588c-bdc6-4ca8-a68c-c951e7f83509"
      },
      "source": [
        "bikes.describe()"
      ],
      "execution_count": 9,
      "outputs": [
        {
          "output_type": "execute_result",
          "data": {
            "text/html": [
              "<div>\n",
              "<style scoped>\n",
              "    .dataframe tbody tr th:only-of-type {\n",
              "        vertical-align: middle;\n",
              "    }\n",
              "\n",
              "    .dataframe tbody tr th {\n",
              "        vertical-align: top;\n",
              "    }\n",
              "\n",
              "    .dataframe thead th {\n",
              "        text-align: right;\n",
              "    }\n",
              "</style>\n",
              "<table border=\"1\" class=\"dataframe\">\n",
              "  <thead>\n",
              "    <tr style=\"text-align: right;\">\n",
              "      <th></th>\n",
              "      <th>dteday</th>\n",
              "      <th>season</th>\n",
              "      <th>hr</th>\n",
              "      <th>holiday</th>\n",
              "      <th>workingday</th>\n",
              "      <th>weathersit</th>\n",
              "      <th>hum</th>\n",
              "      <th>windspeed</th>\n",
              "      <th>temp_c</th>\n",
              "      <th>feels_like_c</th>\n",
              "      <th>rented</th>\n",
              "    </tr>\n",
              "  </thead>\n",
              "  <tbody>\n",
              "    <tr>\n",
              "      <th>count</th>\n",
              "      <td>16637.000000</td>\n",
              "      <td>16637.000000</td>\n",
              "      <td>16637.000000</td>\n",
              "      <td>16637.000000</td>\n",
              "      <td>16637.000000</td>\n",
              "      <td>16637.000000</td>\n",
              "      <td>16637.000000</td>\n",
              "      <td>16637.000000</td>\n",
              "      <td>16637.000000</td>\n",
              "      <td>16637.000000</td>\n",
              "      <td>16637.000000</td>\n",
              "    </tr>\n",
              "    <tr>\n",
              "      <th>mean</th>\n",
              "      <td>734488.616157</td>\n",
              "      <td>2.482058</td>\n",
              "      <td>11.547875</td>\n",
              "      <td>0.028671</td>\n",
              "      <td>0.684378</td>\n",
              "      <td>1.415580</td>\n",
              "      <td>0.624756</td>\n",
              "      <td>12.750436</td>\n",
              "      <td>15.723008</td>\n",
              "      <td>15.852141</td>\n",
              "      <td>190.477009</td>\n",
              "    </tr>\n",
              "    <tr>\n",
              "      <th>std</th>\n",
              "      <td>201.063398</td>\n",
              "      <td>1.085930</td>\n",
              "      <td>6.914199</td>\n",
              "      <td>0.166885</td>\n",
              "      <td>0.464777</td>\n",
              "      <td>0.637298</td>\n",
              "      <td>0.193227</td>\n",
              "      <td>8.168415</td>\n",
              "      <td>9.041349</td>\n",
              "      <td>11.322751</td>\n",
              "      <td>182.026755</td>\n",
              "    </tr>\n",
              "    <tr>\n",
              "      <th>min</th>\n",
              "      <td>734138.000000</td>\n",
              "      <td>1.000000</td>\n",
              "      <td>0.000000</td>\n",
              "      <td>0.000000</td>\n",
              "      <td>0.000000</td>\n",
              "      <td>1.000000</td>\n",
              "      <td>0.000000</td>\n",
              "      <td>0.000000</td>\n",
              "      <td>-7.060000</td>\n",
              "      <td>-16.000000</td>\n",
              "      <td>1.000000</td>\n",
              "    </tr>\n",
              "    <tr>\n",
              "      <th>25%</th>\n",
              "      <td>734315.000000</td>\n",
              "      <td>2.000000</td>\n",
              "      <td>6.000000</td>\n",
              "      <td>0.000000</td>\n",
              "      <td>0.000000</td>\n",
              "      <td>1.000000</td>\n",
              "      <td>0.470000</td>\n",
              "      <td>7.000000</td>\n",
              "      <td>7.980000</td>\n",
              "      <td>5.997800</td>\n",
              "      <td>41.000000</td>\n",
              "    </tr>\n",
              "    <tr>\n",
              "      <th>50%</th>\n",
              "      <td>734489.000000</td>\n",
              "      <td>2.000000</td>\n",
              "      <td>12.000000</td>\n",
              "      <td>0.000000</td>\n",
              "      <td>1.000000</td>\n",
              "      <td>1.000000</td>\n",
              "      <td>0.620000</td>\n",
              "      <td>13.000000</td>\n",
              "      <td>16.440000</td>\n",
              "      <td>17.000000</td>\n",
              "      <td>143.000000</td>\n",
              "    </tr>\n",
              "    <tr>\n",
              "      <th>75%</th>\n",
              "      <td>734663.000000</td>\n",
              "      <td>3.000000</td>\n",
              "      <td>18.000000</td>\n",
              "      <td>0.000000</td>\n",
              "      <td>1.000000</td>\n",
              "      <td>2.000000</td>\n",
              "      <td>0.780000</td>\n",
              "      <td>17.000000</td>\n",
              "      <td>23.020000</td>\n",
              "      <td>24.999200</td>\n",
              "      <td>282.000000</td>\n",
              "    </tr>\n",
              "    <tr>\n",
              "      <th>max</th>\n",
              "      <td>734837.000000</td>\n",
              "      <td>4.000000</td>\n",
              "      <td>23.000000</td>\n",
              "      <td>1.000000</td>\n",
              "      <td>1.000000</td>\n",
              "      <td>4.000000</td>\n",
              "      <td>1.000000</td>\n",
              "      <td>57.000000</td>\n",
              "      <td>39.000000</td>\n",
              "      <td>50.000000</td>\n",
              "      <td>977.000000</td>\n",
              "    </tr>\n",
              "  </tbody>\n",
              "</table>\n",
              "</div>"
            ],
            "text/plain": [
              "              dteday        season  ...  feels_like_c        rented\n",
              "count   16637.000000  16637.000000  ...  16637.000000  16637.000000\n",
              "mean   734488.616157      2.482058  ...     15.852141    190.477009\n",
              "std       201.063398      1.085930  ...     11.322751    182.026755\n",
              "min    734138.000000      1.000000  ...    -16.000000      1.000000\n",
              "25%    734315.000000      2.000000  ...      5.997800     41.000000\n",
              "50%    734489.000000      2.000000  ...     17.000000    143.000000\n",
              "75%    734663.000000      3.000000  ...     24.999200    282.000000\n",
              "max    734837.000000      4.000000  ...     50.000000    977.000000\n",
              "\n",
              "[8 rows x 11 columns]"
            ]
          },
          "metadata": {},
          "execution_count": 9
        }
      ]
    },
    {
      "cell_type": "code",
      "metadata": {
        "id": "MWYzbGaSWuD0",
        "colab": {
          "base_uri": "https://localhost:8080/"
        },
        "outputId": "8e9a5c9d-6284-4435-ec88-f6e2321ca365"
      },
      "source": [
        "X = bikes.drop(bikes.columns[[10]], axis=1)\n",
        "y = bikes['rented']\n",
        "\n",
        "from sklearn.model_selection import train_test_split\n",
        "X_train, X_test, y_train, y_test = train_test_split(X, y, test_size=.2, shuffle=True, random_state=45)\n",
        "\n",
        "print(X_train.shape, y_train.shape, X_test.shape, y_test.shape)\n"
      ],
      "execution_count": 10,
      "outputs": [
        {
          "output_type": "stream",
          "name": "stdout",
          "text": [
            "(13309, 10) (13309,) (3328, 10) (3328,)\n"
          ]
        }
      ]
    },
    {
      "cell_type": "code",
      "metadata": {
        "id": "32SKFhpOYvRa",
        "colab": {
          "base_uri": "https://localhost:8080/",
          "height": 419
        },
        "outputId": "b0a14907-4c54-4982-9f98-a8aef6cf1a02"
      },
      "source": [
        "from sklearn import svm\n",
        "\n",
        "#model=svm.SVC(kernel='linear',C=0.1,gamma=0.1)\n",
        "#model.fit(X_train, y_train)\n",
        "#prediction2=model.predict(X_test)\n",
        "#print('Accuracy for linear SVM is', metrics.accuracy_score(prediction2, y_test))\n",
        "\n",
        "\n",
        "from sklearn.neighbors import KNeighborsClassifier\n",
        "\n",
        "clf = KNeighborsClassifier(n_neighbors = 3)\n",
        "clf.fit(X_train, y_train.values.ravel())\n",
        "\n",
        "test_predictions = clf.predict(X_test)\n",
        "\n",
        "X_test"
      ],
      "execution_count": 11,
      "outputs": [
        {
          "output_type": "execute_result",
          "data": {
            "text/html": [
              "<div>\n",
              "<style scoped>\n",
              "    .dataframe tbody tr th:only-of-type {\n",
              "        vertical-align: middle;\n",
              "    }\n",
              "\n",
              "    .dataframe tbody tr th {\n",
              "        vertical-align: top;\n",
              "    }\n",
              "\n",
              "    .dataframe thead th {\n",
              "        text-align: right;\n",
              "    }\n",
              "</style>\n",
              "<table border=\"1\" class=\"dataframe\">\n",
              "  <thead>\n",
              "    <tr style=\"text-align: right;\">\n",
              "      <th></th>\n",
              "      <th>dteday</th>\n",
              "      <th>season</th>\n",
              "      <th>hr</th>\n",
              "      <th>holiday</th>\n",
              "      <th>workingday</th>\n",
              "      <th>weathersit</th>\n",
              "      <th>hum</th>\n",
              "      <th>windspeed</th>\n",
              "      <th>temp_c</th>\n",
              "      <th>feels_like_c</th>\n",
              "    </tr>\n",
              "  </thead>\n",
              "  <tbody>\n",
              "    <tr>\n",
              "      <th>10440</th>\n",
              "      <td>734578</td>\n",
              "      <td>1</td>\n",
              "      <td>3</td>\n",
              "      <td>0</td>\n",
              "      <td>1</td>\n",
              "      <td>2</td>\n",
              "      <td>0.87</td>\n",
              "      <td>19</td>\n",
              "      <td>10.80</td>\n",
              "      <td>11.0006</td>\n",
              "    </tr>\n",
              "    <tr>\n",
              "      <th>10082</th>\n",
              "      <td>734563</td>\n",
              "      <td>1</td>\n",
              "      <td>4</td>\n",
              "      <td>0</td>\n",
              "      <td>1</td>\n",
              "      <td>1</td>\n",
              "      <td>0.88</td>\n",
              "      <td>13</td>\n",
              "      <td>14.56</td>\n",
              "      <td>15.0002</td>\n",
              "    </tr>\n",
              "    <tr>\n",
              "      <th>13182</th>\n",
              "      <td>734692</td>\n",
              "      <td>3</td>\n",
              "      <td>11</td>\n",
              "      <td>0</td>\n",
              "      <td>0</td>\n",
              "      <td>1</td>\n",
              "      <td>0.42</td>\n",
              "      <td>20</td>\n",
              "      <td>35.24</td>\n",
              "      <td>42.9974</td>\n",
              "    </tr>\n",
              "    <tr>\n",
              "      <th>998</th>\n",
              "      <td>734182</td>\n",
              "      <td>1</td>\n",
              "      <td>6</td>\n",
              "      <td>0</td>\n",
              "      <td>1</td>\n",
              "      <td>1</td>\n",
              "      <td>0.46</td>\n",
              "      <td>20</td>\n",
              "      <td>7.98</td>\n",
              "      <td>3.9980</td>\n",
              "    </tr>\n",
              "    <tr>\n",
              "      <th>1001</th>\n",
              "      <td>734182</td>\n",
              "      <td>1</td>\n",
              "      <td>9</td>\n",
              "      <td>0</td>\n",
              "      <td>1</td>\n",
              "      <td>1</td>\n",
              "      <td>0.37</td>\n",
              "      <td>26</td>\n",
              "      <td>10.80</td>\n",
              "      <td>11.0006</td>\n",
              "    </tr>\n",
              "    <tr>\n",
              "      <th>...</th>\n",
              "      <td>...</td>\n",
              "      <td>...</td>\n",
              "      <td>...</td>\n",
              "      <td>...</td>\n",
              "      <td>...</td>\n",
              "      <td>...</td>\n",
              "      <td>...</td>\n",
              "      <td>...</td>\n",
              "      <td>...</td>\n",
              "      <td>...</td>\n",
              "    </tr>\n",
              "    <tr>\n",
              "      <th>5567</th>\n",
              "      <td>734373</td>\n",
              "      <td>3</td>\n",
              "      <td>21</td>\n",
              "      <td>0</td>\n",
              "      <td>1</td>\n",
              "      <td>1</td>\n",
              "      <td>0.61</td>\n",
              "      <td>24</td>\n",
              "      <td>24.90</td>\n",
              "      <td>26.9990</td>\n",
              "    </tr>\n",
              "    <tr>\n",
              "      <th>890</th>\n",
              "      <td>734177</td>\n",
              "      <td>1</td>\n",
              "      <td>14</td>\n",
              "      <td>0</td>\n",
              "      <td>1</td>\n",
              "      <td>1</td>\n",
              "      <td>0.34</td>\n",
              "      <td>20</td>\n",
              "      <td>1.40</td>\n",
              "      <td>-4.0012</td>\n",
              "    </tr>\n",
              "    <tr>\n",
              "      <th>3889</th>\n",
              "      <td>734303</td>\n",
              "      <td>2</td>\n",
              "      <td>23</td>\n",
              "      <td>0</td>\n",
              "      <td>1</td>\n",
              "      <td>1</td>\n",
              "      <td>0.53</td>\n",
              "      <td>0</td>\n",
              "      <td>21.14</td>\n",
              "      <td>24.9992</td>\n",
              "    </tr>\n",
              "    <tr>\n",
              "      <th>2176</th>\n",
              "      <td>734232</td>\n",
              "      <td>2</td>\n",
              "      <td>13</td>\n",
              "      <td>0</td>\n",
              "      <td>1</td>\n",
              "      <td>2</td>\n",
              "      <td>0.63</td>\n",
              "      <td>28</td>\n",
              "      <td>8.92</td>\n",
              "      <td>5.9978</td>\n",
              "    </tr>\n",
              "    <tr>\n",
              "      <th>424</th>\n",
              "      <td>734156</td>\n",
              "      <td>1</td>\n",
              "      <td>17</td>\n",
              "      <td>0</td>\n",
              "      <td>1</td>\n",
              "      <td>1</td>\n",
              "      <td>0.57</td>\n",
              "      <td>22</td>\n",
              "      <td>8.92</td>\n",
              "      <td>5.9978</td>\n",
              "    </tr>\n",
              "  </tbody>\n",
              "</table>\n",
              "<p>3328 rows × 10 columns</p>\n",
              "</div>"
            ],
            "text/plain": [
              "       dteday  season  hr  holiday  ...   hum  windspeed  temp_c  feels_like_c\n",
              "10440  734578       1   3        0  ...  0.87         19   10.80       11.0006\n",
              "10082  734563       1   4        0  ...  0.88         13   14.56       15.0002\n",
              "13182  734692       3  11        0  ...  0.42         20   35.24       42.9974\n",
              "998    734182       1   6        0  ...  0.46         20    7.98        3.9980\n",
              "1001   734182       1   9        0  ...  0.37         26   10.80       11.0006\n",
              "...       ...     ...  ..      ...  ...   ...        ...     ...           ...\n",
              "5567   734373       3  21        0  ...  0.61         24   24.90       26.9990\n",
              "890    734177       1  14        0  ...  0.34         20    1.40       -4.0012\n",
              "3889   734303       2  23        0  ...  0.53          0   21.14       24.9992\n",
              "2176   734232       2  13        0  ...  0.63         28    8.92        5.9978\n",
              "424    734156       1  17        0  ...  0.57         22    8.92        5.9978\n",
              "\n",
              "[3328 rows x 10 columns]"
            ]
          },
          "metadata": {},
          "execution_count": 11
        }
      ]
    },
    {
      "cell_type": "code",
      "metadata": {
        "colab": {
          "base_uri": "https://localhost:8080/"
        },
        "id": "KBBxvKj9q4tE",
        "outputId": "f88a7e85-e991-4cb2-ea4c-dcb7106397e5"
      },
      "source": [
        "from sklearn.metrics import accuracy_score, f1_score\n",
        "\n",
        "f1_score(y_test, test_predictions, average='weighted')"
      ],
      "execution_count": 12,
      "outputs": [
        {
          "output_type": "execute_result",
          "data": {
            "text/plain": [
              "0.010072912362525197"
            ]
          },
          "metadata": {},
          "execution_count": 12
        }
      ]
    },
    {
      "cell_type": "code",
      "metadata": {
        "colab": {
          "base_uri": "https://localhost:8080/"
        },
        "id": "MpRuY2HTq8JU",
        "outputId": "5d26454e-ecff-43ad-81dd-3056a833cb58"
      },
      "source": [
        "from sklearn.metrics import confusion_matrix, mean_absolute_error, mean_squared_error, r2_score\n",
        "confusion_matrix(y_test, test_predictions)\n",
        "\n",
        "#from sklearn.metrics import plot_confusion_matrix\n",
        "#plot_confusion_matrix(clf, X_test, y_test, cmap='Blues')"
      ],
      "execution_count": 13,
      "outputs": [
        {
          "output_type": "execute_result",
          "data": {
            "text/plain": [
              "array([[ 5, 10,  5, ...,  0,  0,  0],\n",
              "       [ 7,  4,  6, ...,  0,  0,  0],\n",
              "       [ 4,  8,  6, ...,  0,  0,  0],\n",
              "       ...,\n",
              "       [ 0,  0,  0, ...,  0,  0,  0],\n",
              "       [ 0,  0,  0, ...,  0,  0,  0],\n",
              "       [ 0,  0,  0, ...,  0,  0,  0]])"
            ]
          },
          "metadata": {},
          "execution_count": 13
        }
      ]
    },
    {
      "cell_type": "code",
      "metadata": {
        "colab": {
          "base_uri": "https://localhost:8080/"
        },
        "id": "06-LhdlorATU",
        "outputId": "0e6c60ee-7c88-4d97-c6a7-290c4a440bd7"
      },
      "source": [
        "print('Mean absolute error:' , mean_absolute_error(y_test, test_predictions))\n",
        "print('Mean squared error:' , mean_squared_error(y_test, test_predictions))\n",
        "print('Root mean squared error:', mean_squared_error(y_test, test_predictions, squared=False))\n",
        "print('R2 score:' , r2_score(y_test, test_predictions))"
      ],
      "execution_count": 14,
      "outputs": [
        {
          "output_type": "stream",
          "name": "stdout",
          "text": [
            "Mean absolute error: 86.57451923076923\n",
            "Mean squared error: 20021.552884615383\n",
            "Root mean squared error: 141.4975366733124\n",
            "R2 score: 0.39479587540068994\n"
          ]
        }
      ]
    },
    {
      "cell_type": "code",
      "metadata": {
        "id": "qlvTb2fXYvO7",
        "colab": {
          "base_uri": "https://localhost:8080/",
          "height": 419
        },
        "outputId": "115ef905-1e82-461a-cd47-8b72cfed4346"
      },
      "source": [
        "december_test = pd.read_csv('https://raw.githubusercontent.com/byui-cse/cse450-course/master/data/bikes_december.csv')\n",
        "december_test.fillna(0)\n",
        "#december_test['dteday'] = pd.to_datetime(december_test.dteday)\n",
        "december_test['dteday'] = pd.to_datetime(december_test['dteday'],infer_datetime_format=True)\n",
        "december_test['dteday'] = december_test['dteday'].apply(lambda x: x.toordinal())\n",
        "december_test"
      ],
      "execution_count": 15,
      "outputs": [
        {
          "output_type": "execute_result",
          "data": {
            "text/html": [
              "<div>\n",
              "<style scoped>\n",
              "    .dataframe tbody tr th:only-of-type {\n",
              "        vertical-align: middle;\n",
              "    }\n",
              "\n",
              "    .dataframe tbody tr th {\n",
              "        vertical-align: top;\n",
              "    }\n",
              "\n",
              "    .dataframe thead th {\n",
              "        text-align: right;\n",
              "    }\n",
              "</style>\n",
              "<table border=\"1\" class=\"dataframe\">\n",
              "  <thead>\n",
              "    <tr style=\"text-align: right;\">\n",
              "      <th></th>\n",
              "      <th>dteday</th>\n",
              "      <th>season</th>\n",
              "      <th>hr</th>\n",
              "      <th>holiday</th>\n",
              "      <th>workingday</th>\n",
              "      <th>weathersit</th>\n",
              "      <th>hum</th>\n",
              "      <th>windspeed</th>\n",
              "      <th>temp_c</th>\n",
              "      <th>feels_like_c</th>\n",
              "    </tr>\n",
              "  </thead>\n",
              "  <tbody>\n",
              "    <tr>\n",
              "      <th>0</th>\n",
              "      <td>734838</td>\n",
              "      <td>4</td>\n",
              "      <td>0</td>\n",
              "      <td>0</td>\n",
              "      <td>0</td>\n",
              "      <td>1</td>\n",
              "      <td>0.81</td>\n",
              "      <td>0</td>\n",
              "      <td>4.22</td>\n",
              "      <td>3.9980</td>\n",
              "    </tr>\n",
              "    <tr>\n",
              "      <th>1</th>\n",
              "      <td>734838</td>\n",
              "      <td>4</td>\n",
              "      <td>1</td>\n",
              "      <td>0</td>\n",
              "      <td>0</td>\n",
              "      <td>1</td>\n",
              "      <td>0.81</td>\n",
              "      <td>0</td>\n",
              "      <td>4.22</td>\n",
              "      <td>3.9980</td>\n",
              "    </tr>\n",
              "    <tr>\n",
              "      <th>2</th>\n",
              "      <td>734838</td>\n",
              "      <td>4</td>\n",
              "      <td>2</td>\n",
              "      <td>0</td>\n",
              "      <td>0</td>\n",
              "      <td>2</td>\n",
              "      <td>0.81</td>\n",
              "      <td>0</td>\n",
              "      <td>4.22</td>\n",
              "      <td>3.9980</td>\n",
              "    </tr>\n",
              "    <tr>\n",
              "      <th>3</th>\n",
              "      <td>734838</td>\n",
              "      <td>4</td>\n",
              "      <td>3</td>\n",
              "      <td>0</td>\n",
              "      <td>0</td>\n",
              "      <td>2</td>\n",
              "      <td>0.81</td>\n",
              "      <td>9</td>\n",
              "      <td>4.22</td>\n",
              "      <td>1.9982</td>\n",
              "    </tr>\n",
              "    <tr>\n",
              "      <th>4</th>\n",
              "      <td>734838</td>\n",
              "      <td>4</td>\n",
              "      <td>4</td>\n",
              "      <td>0</td>\n",
              "      <td>0</td>\n",
              "      <td>1</td>\n",
              "      <td>0.81</td>\n",
              "      <td>6</td>\n",
              "      <td>4.22</td>\n",
              "      <td>3.0014</td>\n",
              "    </tr>\n",
              "    <tr>\n",
              "      <th>...</th>\n",
              "      <td>...</td>\n",
              "      <td>...</td>\n",
              "      <td>...</td>\n",
              "      <td>...</td>\n",
              "      <td>...</td>\n",
              "      <td>...</td>\n",
              "      <td>...</td>\n",
              "      <td>...</td>\n",
              "      <td>...</td>\n",
              "      <td>...</td>\n",
              "    </tr>\n",
              "    <tr>\n",
              "      <th>737</th>\n",
              "      <td>734868</td>\n",
              "      <td>1</td>\n",
              "      <td>19</td>\n",
              "      <td>0</td>\n",
              "      <td>1</td>\n",
              "      <td>2</td>\n",
              "      <td>0.60</td>\n",
              "      <td>11</td>\n",
              "      <td>4.22</td>\n",
              "      <td>1.0016</td>\n",
              "    </tr>\n",
              "    <tr>\n",
              "      <th>738</th>\n",
              "      <td>734868</td>\n",
              "      <td>1</td>\n",
              "      <td>20</td>\n",
              "      <td>0</td>\n",
              "      <td>1</td>\n",
              "      <td>2</td>\n",
              "      <td>0.60</td>\n",
              "      <td>11</td>\n",
              "      <td>4.22</td>\n",
              "      <td>1.0016</td>\n",
              "    </tr>\n",
              "    <tr>\n",
              "      <th>739</th>\n",
              "      <td>734868</td>\n",
              "      <td>1</td>\n",
              "      <td>21</td>\n",
              "      <td>0</td>\n",
              "      <td>1</td>\n",
              "      <td>1</td>\n",
              "      <td>0.60</td>\n",
              "      <td>11</td>\n",
              "      <td>4.22</td>\n",
              "      <td>1.0016</td>\n",
              "    </tr>\n",
              "    <tr>\n",
              "      <th>740</th>\n",
              "      <td>734868</td>\n",
              "      <td>1</td>\n",
              "      <td>22</td>\n",
              "      <td>0</td>\n",
              "      <td>1</td>\n",
              "      <td>1</td>\n",
              "      <td>0.56</td>\n",
              "      <td>9</td>\n",
              "      <td>4.22</td>\n",
              "      <td>1.9982</td>\n",
              "    </tr>\n",
              "    <tr>\n",
              "      <th>741</th>\n",
              "      <td>734868</td>\n",
              "      <td>1</td>\n",
              "      <td>23</td>\n",
              "      <td>0</td>\n",
              "      <td>1</td>\n",
              "      <td>1</td>\n",
              "      <td>0.65</td>\n",
              "      <td>9</td>\n",
              "      <td>4.22</td>\n",
              "      <td>1.9982</td>\n",
              "    </tr>\n",
              "  </tbody>\n",
              "</table>\n",
              "<p>742 rows × 10 columns</p>\n",
              "</div>"
            ],
            "text/plain": [
              "     dteday  season  hr  holiday  ...   hum  windspeed  temp_c  feels_like_c\n",
              "0    734838       4   0        0  ...  0.81          0    4.22        3.9980\n",
              "1    734838       4   1        0  ...  0.81          0    4.22        3.9980\n",
              "2    734838       4   2        0  ...  0.81          0    4.22        3.9980\n",
              "3    734838       4   3        0  ...  0.81          9    4.22        1.9982\n",
              "4    734838       4   4        0  ...  0.81          6    4.22        3.0014\n",
              "..      ...     ...  ..      ...  ...   ...        ...     ...           ...\n",
              "737  734868       1  19        0  ...  0.60         11    4.22        1.0016\n",
              "738  734868       1  20        0  ...  0.60         11    4.22        1.0016\n",
              "739  734868       1  21        0  ...  0.60         11    4.22        1.0016\n",
              "740  734868       1  22        0  ...  0.56          9    4.22        1.9982\n",
              "741  734868       1  23        0  ...  0.65          9    4.22        1.9982\n",
              "\n",
              "[742 rows x 10 columns]"
            ]
          },
          "metadata": {},
          "execution_count": 15
        }
      ]
    },
    {
      "cell_type": "code",
      "metadata": {
        "id": "CucIHat_Wt7n"
      },
      "source": [
        ""
      ],
      "execution_count": null,
      "outputs": []
    },
    {
      "cell_type": "code",
      "metadata": {
        "id": "4LeA358MWtkC"
      },
      "source": [
        ""
      ],
      "execution_count": null,
      "outputs": []
    },
    {
      "cell_type": "code",
      "metadata": {
        "id": "_OdE-0eSWtRh"
      },
      "source": [
        ""
      ],
      "execution_count": null,
      "outputs": []
    },
    {
      "cell_type": "code",
      "metadata": {
        "id": "CVSfaqgKPzE2"
      },
      "source": [
        ""
      ],
      "execution_count": null,
      "outputs": []
    }
  ]
}